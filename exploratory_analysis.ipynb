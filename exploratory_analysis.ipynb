{
 "cells": [
  {
   "cell_type": "code",
   "execution_count": null,
   "metadata": {},
   "outputs": [],
   "source": [
    "import warnings\n",
    "\n",
    "import numpy as np\n",
    "import pandas as pd\n",
    "from scipy.stats import chi2_contingency\n",
    "\n",
    "import seaborn as sns\n",
    "import plotly.express as px\n",
    "import matplotlib.pyplot as plt\n",
    "import plotly.graph_objects as go\n",
    "\n",
    "plt.rcParams['figure.figsize'] = (20, 6)\n",
    "warnings.simplefilter(action='ignore', category=pd.errors.PerformanceWarning)"
   ]
  },
  {
   "cell_type": "code",
   "execution_count": null,
   "metadata": {},
   "outputs": [],
   "source": [
    "def cramers_corrected_stat(confusion_matrix):\n",
    "    \"\"\" calculate Cramers V statistic for categorial-categorial association.\n",
    "        uses correction from Bergsma and Wicher, \n",
    "        Journal of the Korean Statscipyuistical Society 42 (2013): 323-328\n",
    "    \"\"\"\n",
    "    chi2 = chi2_contingency(confusion_matrix)[0]\n",
    "    n = confusion_matrix.sum()\n",
    "    phi2 = chi2/n\n",
    "    r,k = confusion_matrix.shape\n",
    "    phi2corr = max(0, phi2 - ((k-1)*(r-1))/(n-1))    \n",
    "    rcorr = r - ((r-1)**2)/(n-1)\n",
    "    kcorr = k - ((k-1)**2)/(n-1)\n",
    "    return np.sqrt(phi2corr / min( (kcorr-1), (rcorr-1)))\n",
    "\n",
    "def get_association(df, var1, var2):\n",
    "    return cramers_corrected_stat(\n",
    "        df\n",
    "        [['id', var1, var2]]\n",
    "        .groupby([var1, var2], as_index=False)\n",
    "        [['id']]\n",
    "        .count()\n",
    "        .pivot(index=var1, columns=var2, values='id')\n",
    "        .to_numpy()\n",
    "    )"
   ]
  },
  {
   "cell_type": "code",
   "execution_count": null,
   "metadata": {},
   "outputs": [],
   "source": [
    "df = pd.read_csv('data/car_features.csv').drop(['title', 'seller_description', 'other_features', 'link', 'image'], axis=1)"
   ]
  },
  {
   "cell_type": "markdown",
   "metadata": {},
   "source": [
    "##### Anúncios por montadora/modelo"
   ]
  },
  {
   "cell_type": "code",
   "execution_count": null,
   "metadata": {},
   "outputs": [],
   "source": [
    "(\n",
    "    df['maker']\n",
    "    .value_counts()\n",
    "    .to_frame()\n",
    "    .reset_index()\n",
    "    .head(25)\n",
    "    .assign(maker = lambda x: np.where(x['maker'] == 'mercedes-benz', 'mercedes', x['maker']))\n",
    "    .pipe(sns.barplot, x='maker', y='count')\n",
    ");"
   ]
  },
  {
   "cell_type": "code",
   "execution_count": null,
   "metadata": {},
   "outputs": [],
   "source": [
    "plot = (\n",
    "    df\n",
    "    ['model']\n",
    "    .value_counts()\n",
    "    .reset_index()\n",
    "    .query(\"count >= 100\")\n",
    "    .pipe(sns.barplot, x='model', y='count')\n",
    ")\n",
    "plt.xticks(rotation=90);"
   ]
  },
  {
   "cell_type": "code",
   "execution_count": null,
   "metadata": {},
   "outputs": [],
   "source": [
    "top_listings = (\n",
    "    df\n",
    "    ['model']\n",
    "    .value_counts()\n",
    "    .reset_index()\n",
    "    .query(\"count >= 20\")\n",
    "    ['model']\n",
    ")\n",
    "\n",
    "df = df.query(\"model in @top_listings\").query(\"price <= 500000\")"
   ]
  },
  {
   "cell_type": "code",
   "execution_count": null,
   "metadata": {},
   "outputs": [],
   "source": [
    "plot = sns.boxplot(df, x=\"model\", y='price')\n",
    "plot.axhline(y=50000, color='red', linestyle='--', linewidth=1)\n",
    "plt.xticks(rotation=90)\n",
    "plt.show();"
   ]
  },
  {
   "cell_type": "code",
   "execution_count": null,
   "metadata": {},
   "outputs": [],
   "source": [
    "sns.boxplot(df.dropna(subset='year').query(\"year >= 2000\"), x='year', y='price')"
   ]
  },
  {
   "cell_type": "code",
   "execution_count": null,
   "metadata": {},
   "outputs": [],
   "source": [
    "corr_df = pd.concat([df.iloc[:, [0]], df.iloc[:, 14:]], axis=1)\n",
    "corr = df.iloc[:, 14:].corr()\n",
    "\n",
    "for i in range(1, corr_df.shape[1]):\n",
    "    for j in range(1, corr_df.shape[1]):\n",
    "\n",
    "        if corr_df.columns[j] == corr_df.columns[i]:\n",
    "            corr[j-1, i-1] = 1\n",
    "        else:\n",
    "            corr[j-1, i-1] = get_association(df, corr_df.columns[i], corr_df.columns[j])\n",
    "\n",
    "corr = corr.iloc[:, 0:27]\n",
    "\n",
    "fig = go.Figure(\n",
    "    data=go.Heatmap(\n",
    "        z=corr.values, \n",
    "        x=corr.columns,  \n",
    "        y=corr.index,  \n",
    "        colorscale='Viridis',  \n",
    "        zmin=-1, zmax=1  \n",
    "    )\n",
    ")\n",
    "\n",
    "fig.update_layout(\n",
    "    title='Correlation Heatmap',\n",
    "    xaxis_title='Features',\n",
    "    yaxis_title='Features',\n",
    "    width=900,\n",
    "    height=900\n",
    ")\n",
    "\n",
    "fig.show()"
   ]
  },
  {
   "cell_type": "code",
   "execution_count": null,
   "metadata": {},
   "outputs": [],
   "source": [
    "aux = df.copy()\n",
    "discrete_vars = df.iloc[:, 14:].columns\n",
    "\n",
    "fig, axes = plt.subplots(4, 7, figsize=(20, 15))\n",
    "axes = axes.flatten()\n",
    "\n",
    "for i in range(len(discrete_vars)):\n",
    "    aux[discrete_vars[i]] = np.where(aux[discrete_vars[i]] == 1, 'Sim', 'Não')\n",
    "    \n",
    "    sns.boxplot(\n",
    "        data=aux.query(\"price <= 100000\"),\n",
    "        x=discrete_vars[i],  \n",
    "        y='price',  \n",
    "        ax=axes[i]\n",
    "    )\n",
    "    axes[i].set_title(discrete_vars[i])\n",
    "\n",
    "axes[27].axis('off')\n",
    "\n",
    "plt.tight_layout()\n",
    "plt.show()"
   ]
  },
  {
   "cell_type": "code",
   "execution_count": null,
   "metadata": {},
   "outputs": [],
   "source": [
    "bad_models = ['fusca', 'parati', 'palio weekend', 'uno', 'celta', 'rampage', 'commander', 'taos',\n",
    "              'l 200 triton', 'hilux sw4', 'hilux caminhonete', 'montana', 'meriva', 'clio hatch',\n",
    "              'ecosport', 'palio', 'escort', 'rav 4', 'pajero full', 'hr-v', 'range rover evoque',\n",
    "              'toro', 'f-250', 'march', 'ranger', 's10', 'santa fe', 'freelander', 'f-1000',\n",
    "              'renegade', 'compass', 'corolla cross', 'city hatch', 'captiva sport', 'crv',\n",
    "              'gol', 'corsa hatch', 'ka hatch', 'corsa sedan', 'voyage', 'saveiro', 'passat',\n",
    "              'strada', 'opala', 'zafira', 'idea', 'astra hatch', 'santana', 'omega', 'captur',\n",
    "              'astra sedan', 'vectra sedan', 'sportage', 'doblo', 'fox', 'space fox',\n",
    "              'kombi', 'fiorino furgão', 'kwid', 'pajero tr4', 'tucson', 'vectra hatch',\n",
    "              'duster', 'tracker', 'santa fé', 'freelander 2', 'freemont', 'outlander',\n",
    "              'amarok', 'siena', 'golf', 'crossfox', 'agile', 'mobi', 'soul']\n",
    "plot = sns.boxplot(df.query(\"model not in @bad_models\"), x=\"model\", y='price')\n",
    "plot.axhline(y=50000, color='red', linestyle='--', linewidth=1)\n",
    "plt.xticks(rotation=90)\n",
    "plt.show();"
   ]
  }
 ],
 "metadata": {
  "kernelspec": {
   "display_name": ".venv",
   "language": "python",
   "name": "python3"
  },
  "language_info": {
   "codemirror_mode": {
    "name": "ipython",
    "version": 3
   },
   "file_extension": ".py",
   "mimetype": "text/x-python",
   "name": "python",
   "nbconvert_exporter": "python",
   "pygments_lexer": "ipython3",
   "version": "3.10.10"
  }
 },
 "nbformat": 4,
 "nbformat_minor": 2
}

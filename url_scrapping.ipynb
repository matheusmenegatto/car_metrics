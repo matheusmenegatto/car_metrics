{
 "cells": [
  {
   "cell_type": "code",
   "execution_count": 1,
   "metadata": {},
   "outputs": [],
   "source": [
    "import re\n",
    "import time\n",
    "import requests\n",
    "import numpy as np\n",
    "import pandas as pd\n",
    "\n",
    "from selenium import webdriver\n",
    "from selenium.webdriver.common.by import By\n",
    "from tqdm import tqdm"
   ]
  },
  {
   "cell_type": "code",
   "execution_count": 7,
   "metadata": {},
   "outputs": [
    {
     "name": "stdout",
     "output_type": "stream",
     "text": [
      "Price Range: R$ 80000 - R$ 85000 - 1365 Listings - 66 Iterations\n",
      "Final fetch\n"
     ]
    },
    {
     "name": "stderr",
     "output_type": "stream",
     "text": [
      "100%|██████████| 4536/4536 [12:12<00:00,  6.19it/s]\n"
     ]
    },
    {
     "name": "stdout",
     "output_type": "stream",
     "text": [
      "Price Range: R$ 85000 - R$ 90000 - 1470 Listings - 71 Iterations\n",
      "Final fetch\n"
     ]
    },
    {
     "name": "stderr",
     "output_type": "stream",
     "text": [
      "100%|██████████| 4536/4536 [09:06<00:00,  8.30it/s]\n"
     ]
    },
    {
     "name": "stdout",
     "output_type": "stream",
     "text": [
      "Price Range: R$ 90000 - R$ 95000 - 956 Listings - 47 Iterations\n",
      "Final fetch\n"
     ]
    },
    {
     "name": "stderr",
     "output_type": "stream",
     "text": [
      "100%|██████████| 2964/2964 [01:52<00:00, 26.28it/s]\n"
     ]
    },
    {
     "name": "stdout",
     "output_type": "stream",
     "text": [
      "Price Range: R$ 95000 - R$ 100000 - 1163 Listings - 56 Iterations\n",
      "Final fetch\n"
     ]
    },
    {
     "name": "stderr",
     "output_type": "stream",
     "text": [
      "100%|██████████| 3576/3576 [04:06<00:00, 14.51it/s]\n"
     ]
    },
    {
     "name": "stdout",
     "output_type": "stream",
     "text": [
      "Price Range: R$ 100000 - R$ 105000 - 666 Listings - 33 Iterations\n",
      "Final fetch\n"
     ]
    },
    {
     "name": "stderr",
     "output_type": "stream",
     "text": [
      "100%|██████████| 2106/2106 [00:44<00:00, 46.94it/s]\n"
     ]
    },
    {
     "name": "stdout",
     "output_type": "stream",
     "text": [
      "Price Range: R$ 105000 - R$ 110000 - 1003 Listings - 49 Iterations\n",
      "Final fetch\n"
     ]
    },
    {
     "name": "stderr",
     "output_type": "stream",
     "text": [
      "100%|██████████| 3114/3114 [02:20<00:00, 22.15it/s]\n"
     ]
    },
    {
     "name": "stdout",
     "output_type": "stream",
     "text": [
      "Price Range: R$ 110000 - R$ 115000 - 783 Listings - 38 Iterations\n",
      "Final fetch\n"
     ]
    },
    {
     "name": "stderr",
     "output_type": "stream",
     "text": [
      "100%|██████████| 2430/2430 [01:14<00:00, 32.43it/s]\n"
     ]
    },
    {
     "name": "stdout",
     "output_type": "stream",
     "text": [
      "Price Range: R$ 115000 - R$ 120000 - 924 Listings - 45 Iterations\n",
      "Final fetch\n"
     ]
    },
    {
     "name": "stderr",
     "output_type": "stream",
     "text": [
      "100%|██████████| 2898/2898 [01:42<00:00, 28.26it/s]\n"
     ]
    },
    {
     "name": "stdout",
     "output_type": "stream",
     "text": [
      "Price Range: R$ 120000 - R$ 130000 - 1165 Listings - 56 Iterations\n",
      "Final fetch\n"
     ]
    },
    {
     "name": "stderr",
     "output_type": "stream",
     "text": [
      "100%|██████████| 3582/3582 [04:33<00:00, 13.09it/s]\n"
     ]
    },
    {
     "name": "stdout",
     "output_type": "stream",
     "text": [
      "Price Range: R$ 130000 - R$ 140000 - 860 Listings - 42 Iterations\n",
      "Final fetch\n"
     ]
    },
    {
     "name": "stderr",
     "output_type": "stream",
     "text": [
      "100%|██████████| 2646/2646 [01:25<00:00, 31.01it/s]\n"
     ]
    },
    {
     "name": "stdout",
     "output_type": "stream",
     "text": [
      "Price Range: R$ 140000 - R$ 150000 - 644 Listings - 32 Iterations\n",
      "Final fetch\n"
     ]
    },
    {
     "name": "stderr",
     "output_type": "stream",
     "text": [
      "100%|██████████| 2016/2016 [00:53<00:00, 37.93it/s]\n"
     ]
    },
    {
     "name": "stdout",
     "output_type": "stream",
     "text": [
      "Price Range: R$ 150000 - R$ 300000 - 2625 Listings - 126 Iterations\n",
      "Final fetch\n"
     ]
    },
    {
     "name": "stderr",
     "output_type": "stream",
     "text": [
      "100%|██████████| 7938/7938 [26:44<00:00,  4.95it/s]  \n"
     ]
    }
   ],
   "source": [
    "driver = webdriver.Chrome()\n",
    "#url = 'https://carrosp.com.br/carros/'\n",
    "\n",
    "price_range = [0, 20000, 25000, 30000, 35000, 40000, 45000, 50000, 55000, 60000, 65000, 70000, 75000, 80000, \n",
    "               85000, 90000, 95000, 100000, 105000, 110000, 115000, 120000, 130000, 140000, 150000, 300000]\n",
    "\n",
    "for i in range(13, len(price_range) - 1):\n",
    "#for i in range(1):\n",
    "\n",
    "    # Fix URL an open it\n",
    "    url = f\"https://carrosp.com.br/carros/todos/?revendedor=0&revendedor=S&particular=0&particular=S&tipo_id=1&marca_id=&ano1=&ano2=&zero=0&zero=S&usado=0&usado=S&kmIni=&kmFim=&precoIni={price_range[i]}&precoFim={price_range[i+1]}&idForm=formBuscaVeiculo&id=&cor_id=&combustivel_id=&distancia=100&cidadeNome=&cidade_id=&nocidade=1&\"\n",
    "    driver.get(url)\n",
    "\n",
    "    # Locate the element containing the number of vehicles and extract it\n",
    "    element = driver.find_element(By.CSS_SELECTOR, \"p.qtde-result.font-weight-bold\")\n",
    "    text = element.text  \n",
    "    number = int(text.split()[0]) \n",
    "    iters = round(number/21) + 1\n",
    "\n",
    "    print(f\"Price Range: R$ {price_range[i]} - R$ {price_range[i+1]} - {number} Listings - {iters} Iterations\")\n",
    "\n",
    "    car_listings = list()\n",
    "\n",
    "    for iter in range(iters):\n",
    "        # Scroll down and up to load listings\n",
    "        driver.execute_script(\"window.scrollTo(0, document.body.scrollHeight);\")\n",
    "        driver.execute_script(\"window.scrollBy(0, -1100);\")\n",
    "\n",
    "        time.sleep(3)\n",
    "\n",
    "        # if iter%10 == 0: # Doing it to egt partial data so in dont lose anything\n",
    "        #     elements = driver.find_elements(By.CSS_SELECTOR, \"a.titulo.novajanela.mb-1\")\n",
    "        #     \n",
    "        #     for element in tqdm(elements):\n",
    "        #         href = element.get_attribute(\"href\")\n",
    "        #         if href:\n",
    "        #             car_listings.append(href)\n",
    "\n",
    "    # Repeat to process to fetch all possible data\n",
    "    elements = driver.find_elements(By.CSS_SELECTOR, \"a.titulo.novajanela.mb-1\")\n",
    "    \n",
    "    print(\"Final fetch\")\n",
    "    for element in tqdm(elements):\n",
    "        href = element.get_attribute(\"href\")\n",
    "        if href:\n",
    "            car_listings.append(href)\n",
    "\n",
    "    car_listings = list(set(car_listings))\n",
    "    \n",
    "    # Writes listings url\n",
    "    with open(\"listings.txt\", \"a\") as file:\n",
    "        for url in car_listings:\n",
    "            file.write(url + \"\\n\")\n",
    "\n",
    "driver.quit()   "
   ]
  }
 ],
 "metadata": {
  "kernelspec": {
   "display_name": ".venv",
   "language": "python",
   "name": "python3"
  },
  "language_info": {
   "codemirror_mode": {
    "name": "ipython",
    "version": 3
   },
   "file_extension": ".py",
   "mimetype": "text/x-python",
   "name": "python",
   "nbconvert_exporter": "python",
   "pygments_lexer": "ipython3",
   "version": "3.10.10"
  }
 },
 "nbformat": 4,
 "nbformat_minor": 2
}

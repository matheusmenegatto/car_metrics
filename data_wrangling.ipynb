{
 "cells": [
  {
   "cell_type": "code",
   "execution_count": 1,
   "metadata": {},
   "outputs": [],
   "source": [
    "import ast\n",
    "import unicodedata\n",
    "import numpy as np\n",
    "import pandas as pd\n",
    "\n",
    "from tqdm import tqdm\n",
    "from utils_data_wrangling import *"
   ]
  },
  {
   "cell_type": "code",
   "execution_count": 2,
   "metadata": {},
   "outputs": [],
   "source": [
    "car_features = pd.DataFrame()\n",
    "failed_urls = pd.DataFrame()\n",
    "\n",
    "for i in [j for j in range(500, 29500, 500)] + ['final']:\n",
    "    aux_features = pd.read_csv(f'data/partial_data/cars_features_{i}.csv')\n",
    "    aux_failed = pd.read_csv(f'data/partial_data/failed_urls_{i}.csv')\n",
    "\n",
    "    car_features = pd.concat([car_features, aux_features], axis=0)\n",
    "    failed_urls = pd.concat([failed_urls, aux_failed], axis=0)\n",
    "\n",
    "car_features = car_features.rename(columns={'other_fatures': 'other_features'})"
   ]
  },
  {
   "cell_type": "code",
   "execution_count": 3,
   "metadata": {},
   "outputs": [
    {
     "data": {
      "text/plain": [
       "error\n",
       "'NoneType' object has no attribute 'p'    1978\n",
       "Name: count, dtype: int64"
      ]
     },
     "execution_count": 3,
     "metadata": {},
     "output_type": "execute_result"
    }
   ],
   "source": [
    "failed_urls['error'].value_counts()"
   ]
  },
  {
   "cell_type": "markdown",
   "metadata": {},
   "source": [
    "### Get possible values for feature cols"
   ]
  },
  {
   "cell_type": "code",
   "execution_count": 4,
   "metadata": {},
   "outputs": [],
   "source": [
    "car_features['maker'] = car_features['maker'].str.lower()\n",
    "car_features['model'] = car_features['model'].str.lower()\n",
    "car_features['other_features'] = car_features['other_features'].str.lower()\n",
    "car_features['city'] = car_features['city'].str.lower()\n",
    "car_features['price'] = car_features['price'].replace({\n",
    "    'R\\$': '',  # Remove R$\n",
    "    '\\s': '',   # Remove spaces\n",
    "    '\\.': ''    # Remove dots\n",
    "}, regex=True).astype(float)\n",
    "car_features['year'] = np.where(car_features['year'] == 2924, 2024, car_features['year'])\n",
    "car_features['engine'] = np.where(car_features['engine'] == '1.6/s', '1.6', car_features['engine'])\n",
    "\n",
    "# maker - ok\n",
    "# model - ok\n",
    "years = [str(int(i)) for i in range(1950, 2026)] + [str(float(i)) for i in range(1950, 2026)]\n",
    "engines = list(\n",
    "    car_features\n",
    "    .query(\"engine not in ('Cj-5', 'Cj-3', 'Elétrico', '2p', 'B12p', 'Ev', '44,9', 'P6', '82,5', 'P8', 'Se')\")\n",
    "    .astype({'engine': float})\n",
    "    .groupby('engine', as_index=False)\n",
    "    [['id']]\n",
    "    .count()\n",
    "    .sort_values('engine', ascending=True)\n",
    "    .query(\"engine < 27\")\n",
    "    ['engine']\n",
    ") + ['Cj-5', 'Cj-3', 'Elétrico', 'Ev', 'P6', 'P8', '1.050']\n",
    "engines = [str(i) for i in engines]\n",
    "transmissions = ['Manual', 'Automático', 'Automático CVT', 'Automatizado', '100% Elétrico', 'Alcool', 'Elétrico']\n",
    "fuel_types = ['Flex', 'Gasolina', 'Diesel', 'Alcool', 'Híbrido e Flex', 'Híbrido e Gasolina',\n",
    "              'Elétrico', 'GNV e Gasolina', 'GNV e Flex', 'GNV'] \n",
    "body_types = ['Hatch', 'SUV', 'Sedan', 'Picape', 'Monovolume', 'SW-Perua', 'Van', \n",
    "              'Furgão Pequeno', 'Minivan', 'Coupé-Fast Back', 'Conversível']\n",
    "colors = (\n",
    "    car_features\n",
    "    .groupby('color', as_index=False)\n",
    "    [['id']]\n",
    "    .count()\n",
    "    .sort_values('id', ascending=False)\n",
    "    [lambda x: ~x['color'].str.contains(r'\\d+\\.?\\d*\\s*KM', na=False)]\n",
    "    ['color']\n",
    ") \n",
    "colors = [i for i in colors]\n",
    "# mileage - ok\n",
    "# doors e valves são meio inuteis na real, o que mais tem nessas colunas são infos de modelo \n",
    "# do carro, tipo civic ls, prisma joy e afins"
   ]
  },
  {
   "cell_type": "markdown",
   "metadata": {},
   "source": [
    "### Get the correct info for each feature col"
   ]
  },
  {
   "cell_type": "code",
   "execution_count": 5,
   "metadata": {},
   "outputs": [],
   "source": [
    "car_features = (\n",
    "    car_features\n",
    "    .pipe(get_spread_info, 'year', years)\n",
    "    .apply(lambda x: x.astype(str))\n",
    "    .pipe(get_spread_info, 'engine', engines)\n",
    "    .pipe(get_spread_info, 'transmission', transmissions)\n",
    "    .pipe(get_spread_info, 'fuel_type', fuel_types)\n",
    "    .pipe(get_spread_info, 'body_type', body_types)\n",
    "    .pipe(get_spread_info, 'color', colors)\n",
    "    .pipe(get_spread_mileage_info)\n",
    "    .astype({'mileage': str, 'year': str})\n",
    "    .assign(year = lambda x: np.where(~x['year'].isin(years), np.nan, x['year']))\n",
    "    .assign(engine = lambda x: np.where(~x['engine'].isin(engines), np.nan, x['engine']))\n",
    "    .assign(transmission = lambda x: np.where(~x['transmission'].isin(transmissions), np.nan, x['transmission']))\n",
    "    .assign(fuel_type = lambda x: np.where(~x['fuel_type'].isin(fuel_types), np.nan, x['fuel_type']))\n",
    "    .assign(body_type = lambda x: np.where(~x['body_type'].isin(body_types), np.nan, x['body_type']))\n",
    "    .assign(color = lambda x: np.where(~x['color'].isin(colors), np.nan, x['color']))\n",
    "    .assign(mileage = lambda x: np.where(~x['mileage'].str.endswith(('KM', \"KM KM\")), np.nan, x['mileage']))\n",
    "    .assign(year = lambda x: np.where(~x['spread_year'].isnull(), x['spread_year'], x['year']))\n",
    "    .assign(engine = lambda x: np.where(~x['spread_engine'].isnull(), x['spread_engine'], x['engine']))\n",
    "    .assign(transmission = lambda x: np.where(~x['spread_transmission'].isnull(), x['spread_transmission'], x['transmission']))\n",
    "    .assign(fuel_type = lambda x: np.where(~x['spread_fuel_type'].isnull(), x['spread_fuel_type'], x['fuel_type']))\n",
    "    .assign(body_type = lambda x: np.where(~x['spread_body_type'].isnull(), x['spread_body_type'], x['body_type']))\n",
    "    .assign(color = lambda x: np.where(~x['spread_color'].isnull(), x['spread_color'], x['color']))\n",
    "    .assign(mileage = lambda x: np.where(~x['spread_mileage'].isnull(), x['spread_mileage'], x['mileage']))\n",
    "    .drop(['spread_year', 'spread_engine', 'spread_transmission', 'spread_fuel_type', 'spread_body_type', 'spread_color', 'spread_mileage'], axis=1)\n",
    ")"
   ]
  },
  {
   "cell_type": "markdown",
   "metadata": {},
   "source": [
    "## Working with other_features col"
   ]
  },
  {
   "cell_type": "markdown",
   "metadata": {},
   "source": [
    "### Making them usable"
   ]
  },
  {
   "cell_type": "code",
   "execution_count": 6,
   "metadata": {},
   "outputs": [],
   "source": [
    "extra_features = []\n",
    "for item in [sublista for sublista in car_features['other_features']]:\n",
    "    if item != '[]':\n",
    "        try:\n",
    "            lista_convertida = ast.literal_eval(item)\n",
    "            extra_features.extend(lista_convertida)\n",
    "        except:\n",
    "            continue\n",
    "\n",
    "extra_features = [fix_string(item) for item in extra_features]\n",
    "extra_features = list(\n",
    "    pd.DataFrame({'item': extra_features})\n",
    "    .assign(um = 1)\n",
    "    .groupby('item', as_index=False)\n",
    "    [['um']]\n",
    "    .sum()\n",
    "    .sort_values('um', ascending=False)\n",
    "    .head(95)\n",
    "    ['item']\n",
    ")"
   ]
  },
  {
   "cell_type": "markdown",
   "metadata": {},
   "source": [
    "### Creating a col for each extra features and populating them"
   ]
  },
  {
   "cell_type": "code",
   "execution_count": 7,
   "metadata": {},
   "outputs": [
    {
     "name": "stderr",
     "output_type": "stream",
     "text": [
      "100%|██████████| 95/95 [01:44<00:00,  1.10s/it]\n"
     ]
    }
   ],
   "source": [
    "for feature in extra_features:\n",
    "    car_features[feature] = np.nan\n",
    "\n",
    "car_features['other_features'] = car_features.apply(lambda x: fix_items(x), axis=1)\n",
    "\n",
    "for feature in tqdm(extra_features):\n",
    "    car_features[feature] = car_features.apply(lambda x: check_feature(x, feature), axis=1)"
   ]
  },
  {
   "cell_type": "code",
   "execution_count": 9,
   "metadata": {},
   "outputs": [],
   "source": [
    "car_features.to_csv('data/car_features.csv', index=False)"
   ]
  }
 ],
 "metadata": {
  "kernelspec": {
   "display_name": ".venv",
   "language": "python",
   "name": "python3"
  },
  "language_info": {
   "codemirror_mode": {
    "name": "ipython",
    "version": 3
   },
   "file_extension": ".py",
   "mimetype": "text/x-python",
   "name": "python",
   "nbconvert_exporter": "python",
   "pygments_lexer": "ipython3",
   "version": "3.10.10"
  }
 },
 "nbformat": 4,
 "nbformat_minor": 2
}
